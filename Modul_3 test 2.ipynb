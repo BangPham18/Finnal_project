{
 "cells": [
  {
   "cell_type": "code",
   "execution_count": 34,
   "metadata": {},
   "outputs": [],
   "source": [
    "import pandas as pd\n",
    "import dash\n",
    "from dash import html, dcc\n",
    "from dash import no_update\n",
    "from dash.dependencies import Input, Output\n",
    "import plotly.express as px\n",
    "import matplotlib.pyplot as plt\n",
    "import seaborn as sns"
   ]
  },
  {
   "cell_type": "code",
   "execution_count": 35,
   "metadata": {},
   "outputs": [
    {
     "data": {
      "text/html": [
       "<div>\n",
       "<style scoped>\n",
       "    .dataframe tbody tr th:only-of-type {\n",
       "        vertical-align: middle;\n",
       "    }\n",
       "\n",
       "    .dataframe tbody tr th {\n",
       "        vertical-align: top;\n",
       "    }\n",
       "\n",
       "    .dataframe thead th {\n",
       "        text-align: right;\n",
       "    }\n",
       "</style>\n",
       "<table border=\"1\" class=\"dataframe\">\n",
       "  <thead>\n",
       "    <tr style=\"text-align: right;\">\n",
       "      <th></th>\n",
       "      <th>Unnamed: 0</th>\n",
       "      <th>Flight Number</th>\n",
       "      <th>Launch Site</th>\n",
       "      <th>class</th>\n",
       "      <th>Payload Mass (kg)</th>\n",
       "      <th>Booster Version</th>\n",
       "      <th>Booster Version Category</th>\n",
       "    </tr>\n",
       "  </thead>\n",
       "  <tbody>\n",
       "    <tr>\n",
       "      <th>0</th>\n",
       "      <td>0</td>\n",
       "      <td>1</td>\n",
       "      <td>CCAFS LC-40</td>\n",
       "      <td>0</td>\n",
       "      <td>0.0</td>\n",
       "      <td>F9 v1.0  B0003</td>\n",
       "      <td>v1.0</td>\n",
       "    </tr>\n",
       "    <tr>\n",
       "      <th>1</th>\n",
       "      <td>1</td>\n",
       "      <td>2</td>\n",
       "      <td>CCAFS LC-40</td>\n",
       "      <td>0</td>\n",
       "      <td>0.0</td>\n",
       "      <td>F9 v1.0  B0004</td>\n",
       "      <td>v1.0</td>\n",
       "    </tr>\n",
       "    <tr>\n",
       "      <th>2</th>\n",
       "      <td>2</td>\n",
       "      <td>3</td>\n",
       "      <td>CCAFS LC-40</td>\n",
       "      <td>0</td>\n",
       "      <td>525.0</td>\n",
       "      <td>F9 v1.0  B0005</td>\n",
       "      <td>v1.0</td>\n",
       "    </tr>\n",
       "    <tr>\n",
       "      <th>3</th>\n",
       "      <td>3</td>\n",
       "      <td>4</td>\n",
       "      <td>CCAFS LC-40</td>\n",
       "      <td>0</td>\n",
       "      <td>500.0</td>\n",
       "      <td>F9 v1.0  B0006</td>\n",
       "      <td>v1.0</td>\n",
       "    </tr>\n",
       "    <tr>\n",
       "      <th>4</th>\n",
       "      <td>4</td>\n",
       "      <td>5</td>\n",
       "      <td>CCAFS LC-40</td>\n",
       "      <td>0</td>\n",
       "      <td>677.0</td>\n",
       "      <td>F9 v1.0  B0007</td>\n",
       "      <td>v1.0</td>\n",
       "    </tr>\n",
       "  </tbody>\n",
       "</table>\n",
       "</div>"
      ],
      "text/plain": [
       "   Unnamed: 0  Flight Number  Launch Site  class  Payload Mass (kg)  \\\n",
       "0           0              1  CCAFS LC-40      0                0.0   \n",
       "1           1              2  CCAFS LC-40      0                0.0   \n",
       "2           2              3  CCAFS LC-40      0              525.0   \n",
       "3           3              4  CCAFS LC-40      0              500.0   \n",
       "4           4              5  CCAFS LC-40      0              677.0   \n",
       "\n",
       "  Booster Version Booster Version Category  \n",
       "0  F9 v1.0  B0003                     v1.0  \n",
       "1  F9 v1.0  B0004                     v1.0  \n",
       "2  F9 v1.0  B0005                     v1.0  \n",
       "3  F9 v1.0  B0006                     v1.0  \n",
       "4  F9 v1.0  B0007                     v1.0  "
      ]
     },
     "execution_count": 35,
     "metadata": {},
     "output_type": "execute_result"
    }
   ],
   "source": [
    "df = pd.read_csv( \"https://cf-courses-data.s3.us.cloud-object-storage.appdomain.cloud/IBM-DS0321EN-SkillsNetwork/datasets/spacex_launch_dash.csv\")\n",
    "df.head()"
   ]
  },
  {
   "cell_type": "code",
   "execution_count": 36,
   "metadata": {},
   "outputs": [],
   "source": [
    "max_playload= df['Payload Mass (kg)'].max()\n",
    "num_keys=10\n",
    "step=max_playload//(num_keys-1)\n",
    "\n"
   ]
  },
  {
   "cell_type": "code",
   "execution_count": 37,
   "metadata": {},
   "outputs": [],
   "source": [
    "app = dash.Dash(__name__)\n",
    "app.config.suppress_callback_exceptions=True\n",
    "app.layout = html.Div(children =[html.H1('SpaceX Launch Records Dashboard',\n",
    "                                         style={'textAlign': 'center', 'color': 'white',\n",
    "                                                'font-size':24}),\n",
    "                                html.Div([\n",
    "                                    html.Div([\n",
    "                                        dcc.Dropdown(id='dropdown-chose',\n",
    "                                                    options=[\n",
    "                                                        {'label':'CCAFS LC-40', 'value' : 'CCAFS LC-40'},\n",
    "                                                        {'label':'CCAFS SLC-40', 'value':'CCAFS SLC-40'},\n",
    "                                                        {'label':'KSC LC-39A', 'value':'KSC LC-39A'},\n",
    "                                                        {'label':'VAFB SLC-4E','value':'VAFB SLC-4E'},\n",
    "                                                        {'label':'all site','value':'all'}\n",
    "                                                    ],\n",
    "                                                    placeholder='select a report type',\n",
    "                                                    value='VAFB SLC-4E'),\n",
    "                                    ],style={'width':'80%','padding':'3px','fontSize':'20px','textAlignLast':'center'}),\n",
    "                                    html.Div([\n",
    "                                        dcc.RangeSlider(id='range-chose',\n",
    "                                                        min=0, max=df['Payload Mass (kg)'].max(), step=step,\n",
    "                                                        marks={i * step: f'label {str(i * step)}' for i in range(num_keys)},\n",
    "                                                        value=[0,df['Payload Mass (kg)'].max()])\n",
    "                                    ],style={'width':'80%','padding':'3px','fontSize':'20px','textAlignLast':'center','color': 'white'})\n",
    "                                    ]),\n",
    "                                html.Div([\n",
    "                                    html.Div(id='output-spacex', className='chart-grid', style={'display':'flex'}),\n",
    "                                    html.Div(id='output-payload',className='chart-grid',style={'display':'flex'}),\n",
    "                                ])    \n",
    "                                ])\n"
   ]
  },
  {
   "cell_type": "code",
   "execution_count": 38,
   "metadata": {},
   "outputs": [],
   "source": [
    "@app.callback(\n",
    "    Output(component_id='output-spacex', component_property='children'),\n",
    "    Input(component_id='dropdown-chose',component_property='value'))\n",
    "def update_output_spacex(launch_site):\n",
    "    if launch_site == 'all':\n",
    "        df_all = df[df['class'] == 1]\n",
    "        df_all = df_all.groupby(['Launch Site'])['class'].count().reset_index()\n",
    "        Y_chart = dcc.Graph(\n",
    "        figure = px.pie(df_all,values='class',names='Launch Site',title='barplot'))\n",
    "    else:\n",
    "        df_site = df[df['Launch Site'] == launch_site]['class'].value_counts().reset_index()\n",
    "        Y_chart = dcc.Graph(\n",
    "        figure = px.pie(df_site,values=df_site['count'],names=df_site['class'],title='barplot'))\n",
    "    return Y_chart  "
   ]
  },
  {
   "cell_type": "code",
   "execution_count": 39,
   "metadata": {},
   "outputs": [],
   "source": [
    "@app.callback(\n",
    "    Output(component_id='output-payload', component_property='children'),\n",
    "    Input(component_id='dropdown-chose',component_property='value'),\n",
    "    Input(component_id='range-chose',component_property='value')\n",
    ")\n",
    "def update_output_payload(launch_site,payload):\n",
    "    if launch_site == 'all':\n",
    "        df_payload = df[(df['Payload Mass (kg)'] >= payload[0]) & (df['Payload Mass (kg)'] <= payload[1]) ]\n",
    "        Y_chart=dcc.Graph(\n",
    "            figure= px.scatter(df_payload,x='Payload Mass (kg)',y='Launch Site',title='scatter plot',color=\"Booster Version Category\")\n",
    "        )\n",
    "    else:\n",
    "        df_payload = df[(df['Launch Site'] == launch_site) & (df['Payload Mass (kg)'] >= payload[0]) & (df['Payload Mass (kg)'] <= payload[1])]\n",
    "        Y_chart=dcc.Graph(\n",
    "        figure= px.scatter(df_payload,x='Payload Mass (kg)',y='Launch Site',title='scatter plot',color=\"Booster Version Category\")\n",
    "        )\n",
    "    return Y_chart"
   ]
  },
  {
   "cell_type": "code",
   "execution_count": 40,
   "metadata": {},
   "outputs": [
    {
     "data": {
      "text/html": [
       "\n",
       "        <iframe\n",
       "            width=\"100%\"\n",
       "            height=\"650\"\n",
       "            src=\"http://127.0.0.1:8050/\"\n",
       "            frameborder=\"0\"\n",
       "            allowfullscreen\n",
       "            \n",
       "        ></iframe>\n",
       "        "
      ],
      "text/plain": [
       "<IPython.lib.display.IFrame at 0x1a153a3c620>"
      ]
     },
     "metadata": {},
     "output_type": "display_data"
    }
   ],
   "source": [
    "if __name__ == '__main__':\n",
    "    app.run_server()"
   ]
  }
 ],
 "metadata": {
  "kernelspec": {
   "display_name": "Python 3",
   "language": "python",
   "name": "python3"
  },
  "language_info": {
   "codemirror_mode": {
    "name": "ipython",
    "version": 3
   },
   "file_extension": ".py",
   "mimetype": "text/x-python",
   "name": "python",
   "nbconvert_exporter": "python",
   "pygments_lexer": "ipython3",
   "version": "3.12.3"
  }
 },
 "nbformat": 4,
 "nbformat_minor": 2
}
